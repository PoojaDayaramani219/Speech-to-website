{
 "cells": [
  {
   "cell_type": "code",
   "execution_count": 1,
   "id": "813a160a",
   "metadata": {},
   "outputs": [],
   "source": [
    "import speech_recognition as sr\n",
    "import pyttsx3 as pyt\n",
    "import webbrowser as wb"
   ]
  },
  {
   "cell_type": "code",
   "execution_count": 5,
   "id": "d898cb82",
   "metadata": {},
   "outputs": [
    {
     "name": "stdout",
     "output_type": "stream",
     "text": [
      "Please say something to open....\n",
      "Hearing...\n",
      "You asked to open : www.youtube.com\n"
     ]
    }
   ],
   "source": [
    "if __name__ == \"__main__\":\n",
    "    \n",
    "    recognize = sr.Recognizer()\n",
    "    \n",
    "    with sr.Microphone() as source:\n",
    "        \n",
    "        recognize.adjust_for_ambient_noise(source)\n",
    "        \n",
    "        print(\"Please say something to open....\")\n",
    "        \n",
    "        audio = recognize.listen(source)\n",
    "        \n",
    "        print(\"Hearing...\")\n",
    "        \n",
    "        try:\n",
    "            destination = recognize.recognize_google(audio)\n",
    "            \n",
    "            print(\"You asked to open : \" +destination)\n",
    "            \n",
    "            wb.get().open(destination)\n",
    "            \n",
    "        except Exception as e:\n",
    "            \n",
    "            print(\"error : \" +str(e))\n",
    "            \n",
    "            \n",
    "            \n",
    "        "
   ]
  }
 ],
 "metadata": {
  "kernelspec": {
   "display_name": "Python 3 (ipykernel)",
   "language": "python",
   "name": "python3"
  },
  "language_info": {
   "codemirror_mode": {
    "name": "ipython",
    "version": 3
   },
   "file_extension": ".py",
   "mimetype": "text/x-python",
   "name": "python",
   "nbconvert_exporter": "python",
   "pygments_lexer": "ipython3",
   "version": "3.11.3"
  }
 },
 "nbformat": 4,
 "nbformat_minor": 5
}
